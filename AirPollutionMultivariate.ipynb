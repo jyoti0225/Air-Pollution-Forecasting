{
  "nbformat": 4,
  "nbformat_minor": 0,
  "metadata": {
    "colab": {
      "name": "AirPollutionMultivariate.ipynb",
      "provenance": [],
      "collapsed_sections": []
    },
    "kernelspec": {
      "name": "python3",
      "display_name": "Python 3"
    },
    "accelerator": "GPU"
  },
  "cells": [
    {
      "cell_type": "code",
      "metadata": {
        "id": "YjRQU2tmYFGb",
        "colab_type": "code",
        "colab": {}
      },
      "source": [
        "#Importing libraries and loading dataset\n",
        "import numpy as np\n",
        "%matplotlib inline\n",
        "import matplotlib.pyplot as plt\n",
        "import pandas as pd\n",
        "from datetime import datetime\n",
        "\n",
        "def parse(x):\n",
        "    return datetime.strptime(x, '%Y %m %d %H')\n",
        "                          \n",
        "org_col_names=[\"No\", \"year\",\"month\", \"day\", \"hour\", \"pm2.5\", \"DEWP\",\"TEMP\", \"PRES\", \"cbwd\", \"Iws\", \"Is\", \"Ir\"]\n",
        "col_names = ['pollution', 'dew', 'temp', 'pressure', 'w_dir', 'w_speed', 'snow', 'rain']   \n",
        "                            \n",
        "dataset = pd.read_csv('AirPollution.csv',index_col=0, date_parser=parse,parse_dates=[['year', 'month', 'day', 'hour']])                            "
      ],
      "execution_count": null,
      "outputs": []
    },
    {
      "cell_type": "code",
      "metadata": {
        "id": "QWW63YcTnNTL",
        "colab_type": "code",
        "colab": {
          "base_uri": "https://localhost:8080/",
          "height": 235
        },
        "outputId": "68e79825-5251-4c42-9ed2-f4603cbb2dc5"
      },
      "source": [
        "dataset.head()"
      ],
      "execution_count": null,
      "outputs": [
        {
          "output_type": "execute_result",
          "data": {
            "text/html": [
              "<div>\n",
              "<style scoped>\n",
              "    .dataframe tbody tr th:only-of-type {\n",
              "        vertical-align: middle;\n",
              "    }\n",
              "\n",
              "    .dataframe tbody tr th {\n",
              "        vertical-align: top;\n",
              "    }\n",
              "\n",
              "    .dataframe thead th {\n",
              "        text-align: right;\n",
              "    }\n",
              "</style>\n",
              "<table border=\"1\" class=\"dataframe\">\n",
              "  <thead>\n",
              "    <tr style=\"text-align: right;\">\n",
              "      <th></th>\n",
              "      <th>No</th>\n",
              "      <th>pm2.5</th>\n",
              "      <th>DEWP</th>\n",
              "      <th>TEMP</th>\n",
              "      <th>PRES</th>\n",
              "      <th>cbwd</th>\n",
              "      <th>Iws</th>\n",
              "      <th>Is</th>\n",
              "      <th>Ir</th>\n",
              "    </tr>\n",
              "    <tr>\n",
              "      <th>year_month_day_hour</th>\n",
              "      <th></th>\n",
              "      <th></th>\n",
              "      <th></th>\n",
              "      <th></th>\n",
              "      <th></th>\n",
              "      <th></th>\n",
              "      <th></th>\n",
              "      <th></th>\n",
              "      <th></th>\n",
              "    </tr>\n",
              "  </thead>\n",
              "  <tbody>\n",
              "    <tr>\n",
              "      <th>2010-01-01 00:00:00</th>\n",
              "      <td>1</td>\n",
              "      <td>NaN</td>\n",
              "      <td>-21</td>\n",
              "      <td>-11.0</td>\n",
              "      <td>1021.0</td>\n",
              "      <td>NW</td>\n",
              "      <td>1.79</td>\n",
              "      <td>0</td>\n",
              "      <td>0</td>\n",
              "    </tr>\n",
              "    <tr>\n",
              "      <th>2010-01-01 01:00:00</th>\n",
              "      <td>2</td>\n",
              "      <td>NaN</td>\n",
              "      <td>-21</td>\n",
              "      <td>-12.0</td>\n",
              "      <td>1020.0</td>\n",
              "      <td>NW</td>\n",
              "      <td>4.92</td>\n",
              "      <td>0</td>\n",
              "      <td>0</td>\n",
              "    </tr>\n",
              "    <tr>\n",
              "      <th>2010-01-01 02:00:00</th>\n",
              "      <td>3</td>\n",
              "      <td>NaN</td>\n",
              "      <td>-21</td>\n",
              "      <td>-11.0</td>\n",
              "      <td>1019.0</td>\n",
              "      <td>NW</td>\n",
              "      <td>6.71</td>\n",
              "      <td>0</td>\n",
              "      <td>0</td>\n",
              "    </tr>\n",
              "    <tr>\n",
              "      <th>2010-01-01 03:00:00</th>\n",
              "      <td>4</td>\n",
              "      <td>NaN</td>\n",
              "      <td>-21</td>\n",
              "      <td>-14.0</td>\n",
              "      <td>1019.0</td>\n",
              "      <td>NW</td>\n",
              "      <td>9.84</td>\n",
              "      <td>0</td>\n",
              "      <td>0</td>\n",
              "    </tr>\n",
              "    <tr>\n",
              "      <th>2010-01-01 04:00:00</th>\n",
              "      <td>5</td>\n",
              "      <td>NaN</td>\n",
              "      <td>-20</td>\n",
              "      <td>-12.0</td>\n",
              "      <td>1018.0</td>\n",
              "      <td>NW</td>\n",
              "      <td>12.97</td>\n",
              "      <td>0</td>\n",
              "      <td>0</td>\n",
              "    </tr>\n",
              "  </tbody>\n",
              "</table>\n",
              "</div>"
            ],
            "text/plain": [
              "                     No  pm2.5  DEWP  TEMP    PRES cbwd    Iws  Is  Ir\n",
              "year_month_day_hour                                                   \n",
              "2010-01-01 00:00:00   1    NaN   -21 -11.0  1021.0   NW   1.79   0   0\n",
              "2010-01-01 01:00:00   2    NaN   -21 -12.0  1020.0   NW   4.92   0   0\n",
              "2010-01-01 02:00:00   3    NaN   -21 -11.0  1019.0   NW   6.71   0   0\n",
              "2010-01-01 03:00:00   4    NaN   -21 -14.0  1019.0   NW   9.84   0   0\n",
              "2010-01-01 04:00:00   5    NaN   -20 -12.0  1018.0   NW  12.97   0   0"
            ]
          },
          "metadata": {
            "tags": []
          },
          "execution_count": 2
        }
      ]
    },
    {
      "cell_type": "code",
      "metadata": {
        "id": "hLWvB7QcnuuZ",
        "colab_type": "code",
        "colab": {
          "base_uri": "https://localhost:8080/",
          "height": 136
        },
        "outputId": "90e41074-b8ec-4620-a46f-08a5f7ceeb61"
      },
      "source": [
        "# Data cleaning\n",
        "dataset.drop('No', axis=1, inplace=True)\n",
        "dataset.columns = col_names\n",
        "dataset['pollution'].fillna(0, inplace=True)\n",
        "dataset = dataset[24:] # drop the first day\n",
        "print(dataset.head(5))\n",
        "dataset.to_csv('pollution.csv') # save new CSV"
      ],
      "execution_count": null,
      "outputs": [
        {
          "output_type": "stream",
          "text": [
            "                     pollution  dew  temp  pressure w_dir  w_speed  snow  rain\n",
            "year_month_day_hour                                                           \n",
            "2010-01-02 00:00:00      129.0  -16  -4.0    1020.0    SE     1.79     0     0\n",
            "2010-01-02 01:00:00      148.0  -15  -4.0    1020.0    SE     2.68     0     0\n",
            "2010-01-02 02:00:00      159.0  -11  -5.0    1021.0    SE     3.57     0     0\n",
            "2010-01-02 03:00:00      181.0   -7  -5.0    1022.0    SE     5.36     1     0\n",
            "2010-01-02 04:00:00      138.0   -7  -5.0    1022.0    SE     6.25     2     0\n"
          ],
          "name": "stdout"
        }
      ]
    },
    {
      "cell_type": "code",
      "metadata": {
        "id": "3OFd6lx-n5EP",
        "colab_type": "code",
        "colab": {
          "base_uri": "https://localhost:8080/",
          "height": 297
        },
        "outputId": "ece5ab3d-a45b-4101-f495-4c95b531ae34"
      },
      "source": [
        "# load dataset\n",
        "df = pd.read_csv('pollution.csv', header=0, index_col=0)\n",
        "df.describe()"
      ],
      "execution_count": null,
      "outputs": [
        {
          "output_type": "execute_result",
          "data": {
            "text/html": [
              "<div>\n",
              "<style scoped>\n",
              "    .dataframe tbody tr th:only-of-type {\n",
              "        vertical-align: middle;\n",
              "    }\n",
              "\n",
              "    .dataframe tbody tr th {\n",
              "        vertical-align: top;\n",
              "    }\n",
              "\n",
              "    .dataframe thead th {\n",
              "        text-align: right;\n",
              "    }\n",
              "</style>\n",
              "<table border=\"1\" class=\"dataframe\">\n",
              "  <thead>\n",
              "    <tr style=\"text-align: right;\">\n",
              "      <th></th>\n",
              "      <th>pollution</th>\n",
              "      <th>dew</th>\n",
              "      <th>temp</th>\n",
              "      <th>pressure</th>\n",
              "      <th>w_speed</th>\n",
              "      <th>snow</th>\n",
              "      <th>rain</th>\n",
              "    </tr>\n",
              "  </thead>\n",
              "  <tbody>\n",
              "    <tr>\n",
              "      <th>count</th>\n",
              "      <td>43800.000000</td>\n",
              "      <td>43800.000000</td>\n",
              "      <td>43800.000000</td>\n",
              "      <td>43800.000000</td>\n",
              "      <td>43800.000000</td>\n",
              "      <td>43800.000000</td>\n",
              "      <td>43800.000000</td>\n",
              "    </tr>\n",
              "    <tr>\n",
              "      <th>mean</th>\n",
              "      <td>94.013516</td>\n",
              "      <td>1.828516</td>\n",
              "      <td>12.459041</td>\n",
              "      <td>1016.447306</td>\n",
              "      <td>23.894307</td>\n",
              "      <td>0.052763</td>\n",
              "      <td>0.195023</td>\n",
              "    </tr>\n",
              "    <tr>\n",
              "      <th>std</th>\n",
              "      <td>92.252276</td>\n",
              "      <td>14.429326</td>\n",
              "      <td>12.193384</td>\n",
              "      <td>10.271411</td>\n",
              "      <td>50.022729</td>\n",
              "      <td>0.760582</td>\n",
              "      <td>1.416247</td>\n",
              "    </tr>\n",
              "    <tr>\n",
              "      <th>min</th>\n",
              "      <td>0.000000</td>\n",
              "      <td>-40.000000</td>\n",
              "      <td>-19.000000</td>\n",
              "      <td>991.000000</td>\n",
              "      <td>0.450000</td>\n",
              "      <td>0.000000</td>\n",
              "      <td>0.000000</td>\n",
              "    </tr>\n",
              "    <tr>\n",
              "      <th>25%</th>\n",
              "      <td>24.000000</td>\n",
              "      <td>-10.000000</td>\n",
              "      <td>2.000000</td>\n",
              "      <td>1008.000000</td>\n",
              "      <td>1.790000</td>\n",
              "      <td>0.000000</td>\n",
              "      <td>0.000000</td>\n",
              "    </tr>\n",
              "    <tr>\n",
              "      <th>50%</th>\n",
              "      <td>68.000000</td>\n",
              "      <td>2.000000</td>\n",
              "      <td>14.000000</td>\n",
              "      <td>1016.000000</td>\n",
              "      <td>5.370000</td>\n",
              "      <td>0.000000</td>\n",
              "      <td>0.000000</td>\n",
              "    </tr>\n",
              "    <tr>\n",
              "      <th>75%</th>\n",
              "      <td>132.250000</td>\n",
              "      <td>15.000000</td>\n",
              "      <td>23.000000</td>\n",
              "      <td>1025.000000</td>\n",
              "      <td>21.910000</td>\n",
              "      <td>0.000000</td>\n",
              "      <td>0.000000</td>\n",
              "    </tr>\n",
              "    <tr>\n",
              "      <th>max</th>\n",
              "      <td>994.000000</td>\n",
              "      <td>28.000000</td>\n",
              "      <td>42.000000</td>\n",
              "      <td>1046.000000</td>\n",
              "      <td>585.600000</td>\n",
              "      <td>27.000000</td>\n",
              "      <td>36.000000</td>\n",
              "    </tr>\n",
              "  </tbody>\n",
              "</table>\n",
              "</div>"
            ],
            "text/plain": [
              "          pollution           dew  ...          snow          rain\n",
              "count  43800.000000  43800.000000  ...  43800.000000  43800.000000\n",
              "mean      94.013516      1.828516  ...      0.052763      0.195023\n",
              "std       92.252276     14.429326  ...      0.760582      1.416247\n",
              "min        0.000000    -40.000000  ...      0.000000      0.000000\n",
              "25%       24.000000    -10.000000  ...      0.000000      0.000000\n",
              "50%       68.000000      2.000000  ...      0.000000      0.000000\n",
              "75%      132.250000     15.000000  ...      0.000000      0.000000\n",
              "max      994.000000     28.000000  ...     27.000000     36.000000\n",
              "\n",
              "[8 rows x 7 columns]"
            ]
          },
          "metadata": {
            "tags": []
          },
          "execution_count": 4
        }
      ]
    },
    {
      "cell_type": "code",
      "metadata": {
        "id": "6bRhvqIcpYeV",
        "colab_type": "code",
        "colab": {
          "base_uri": "https://localhost:8080/",
          "height": 34
        },
        "outputId": "fa0e3ca9-b0a8-4801-e9e6-12970046c684"
      },
      "source": [
        "dataset_columns = df.columns.tolist()\n",
        "dataset_columns"
      ],
      "execution_count": null,
      "outputs": [
        {
          "output_type": "execute_result",
          "data": {
            "text/plain": [
              "['pollution', 'dew', 'temp', 'pressure', 'w_dir', 'w_speed', 'snow', 'rain']"
            ]
          },
          "metadata": {
            "tags": []
          },
          "execution_count": 5
        }
      ]
    },
    {
      "cell_type": "code",
      "metadata": {
        "id": "OplB_zJ-pkqj",
        "colab_type": "code",
        "colab": {
          "base_uri": "https://localhost:8080/",
          "height": 283
        },
        "outputId": "e390c278-c79e-40d3-ae79-5febdd209119"
      },
      "source": [
        "#Box plot\n",
        "#pd.options.display.mpl_style = False\n",
        "df.boxplot()"
      ],
      "execution_count": null,
      "outputs": [
        {
          "output_type": "execute_result",
          "data": {
            "text/plain": [
              "<matplotlib.axes._subplots.AxesSubplot at 0x7fd65b63cf98>"
            ]
          },
          "metadata": {
            "tags": []
          },
          "execution_count": 6
        },
        {
          "output_type": "display_data",
          "data": {
            "image/png": "[encoded data removed]",
            "text/plain": [
              "<Figure size 432x288 with 1 Axes>"
            ]
          },
          "metadata": {
            "tags": [],
            "needs_background": "light"
          }
        }
      ]
    },
    {
      "cell_type": "code",
      "metadata": {
        "id": "QAO3Nx3kvify",
        "colab_type": "code",
        "colab": {
          "base_uri": "https://localhost:8080/",
          "height": 450
        },
        "outputId": "35834c14-c397-44fd-d0fe-66e54e8bf412"
      },
      "source": [
        "df"
      ],
      "execution_count": null,
      "outputs": [
        {
          "output_type": "execute_result",
          "data": {
            "text/html": [
              "<div>\n",
              "<style scoped>\n",
              "    .dataframe tbody tr th:only-of-type {\n",
              "        vertical-align: middle;\n",
              "    }\n",
              "\n",
              "    .dataframe tbody tr th {\n",
              "        vertical-align: top;\n",
              "    }\n",
              "\n",
              "    .dataframe thead th {\n",
              "        text-align: right;\n",
              "    }\n",
              "</style>\n",
              "<table border=\"1\" class=\"dataframe\">\n",
              "  <thead>\n",
              "    <tr style=\"text-align: right;\">\n",
              "      <th></th>\n",
              "      <th>pollution</th>\n",
              "      <th>dew</th>\n",
              "      <th>temp</th>\n",
              "      <th>pressure</th>\n",
              "      <th>w_dir</th>\n",
              "      <th>w_speed</th>\n",
              "      <th>snow</th>\n",
              "      <th>rain</th>\n",
              "    </tr>\n",
              "    <tr>\n",
              "      <th>year_month_day_hour</th>\n",
              "      <th></th>\n",
              "      <th></th>\n",
              "      <th></th>\n",
              "      <th></th>\n",
              "      <th></th>\n",
              "      <th></th>\n",
              "      <th></th>\n",
              "      <th></th>\n",
              "    </tr>\n",
              "  </thead>\n",
              "  <tbody>\n",
              "    <tr>\n",
              "      <th>2010-01-02 00:00:00</th>\n",
              "      <td>129.0</td>\n",
              "      <td>-16</td>\n",
              "      <td>-4.0</td>\n",
              "      <td>1020.0</td>\n",
              "      <td>SE</td>\n",
              "      <td>1.79</td>\n",
              "      <td>0</td>\n",
              "      <td>0</td>\n",
              "    </tr>\n",
              "    <tr>\n",
              "      <th>2010-01-02 01:00:00</th>\n",
              "      <td>148.0</td>\n",
              "      <td>-15</td>\n",
              "      <td>-4.0</td>\n",
              "      <td>1020.0</td>\n",
              "      <td>SE</td>\n",
              "      <td>2.68</td>\n",
              "      <td>0</td>\n",
              "      <td>0</td>\n",
              "    </tr>\n",
              "    <tr>\n",
              "      <th>2010-01-02 02:00:00</th>\n",
              "      <td>159.0</td>\n",
              "      <td>-11</td>\n",
              "      <td>-5.0</td>\n",
              "      <td>1021.0</td>\n",
              "      <td>SE</td>\n",
              "      <td>3.57</td>\n",
              "      <td>0</td>\n",
              "      <td>0</td>\n",
              "    </tr>\n",
              "    <tr>\n",
              "      <th>2010-01-02 03:00:00</th>\n",
              "      <td>181.0</td>\n",
              "      <td>-7</td>\n",
              "      <td>-5.0</td>\n",
              "      <td>1022.0</td>\n",
              "      <td>SE</td>\n",
              "      <td>5.36</td>\n",
              "      <td>1</td>\n",
              "      <td>0</td>\n",
              "    </tr>\n",
              "    <tr>\n",
              "      <th>2010-01-02 04:00:00</th>\n",
              "      <td>138.0</td>\n",
              "      <td>-7</td>\n",
              "      <td>-5.0</td>\n",
              "      <td>1022.0</td>\n",
              "      <td>SE</td>\n",
              "      <td>6.25</td>\n",
              "      <td>2</td>\n",
              "      <td>0</td>\n",
              "    </tr>\n",
              "    <tr>\n",
              "      <th>...</th>\n",
              "      <td>...</td>\n",
              "      <td>...</td>\n",
              "      <td>...</td>\n",
              "      <td>...</td>\n",
              "      <td>...</td>\n",
              "      <td>...</td>\n",
              "      <td>...</td>\n",
              "      <td>...</td>\n",
              "    </tr>\n",
              "    <tr>\n",
              "      <th>2014-12-31 19:00:00</th>\n",
              "      <td>8.0</td>\n",
              "      <td>-23</td>\n",
              "      <td>-2.0</td>\n",
              "      <td>1034.0</td>\n",
              "      <td>NW</td>\n",
              "      <td>231.97</td>\n",
              "      <td>0</td>\n",
              "      <td>0</td>\n",
              "    </tr>\n",
              "    <tr>\n",
              "      <th>2014-12-31 20:00:00</th>\n",
              "      <td>10.0</td>\n",
              "      <td>-22</td>\n",
              "      <td>-3.0</td>\n",
              "      <td>1034.0</td>\n",
              "      <td>NW</td>\n",
              "      <td>237.78</td>\n",
              "      <td>0</td>\n",
              "      <td>0</td>\n",
              "    </tr>\n",
              "    <tr>\n",
              "      <th>2014-12-31 21:00:00</th>\n",
              "      <td>10.0</td>\n",
              "      <td>-22</td>\n",
              "      <td>-3.0</td>\n",
              "      <td>1034.0</td>\n",
              "      <td>NW</td>\n",
              "      <td>242.70</td>\n",
              "      <td>0</td>\n",
              "      <td>0</td>\n",
              "    </tr>\n",
              "    <tr>\n",
              "      <th>2014-12-31 22:00:00</th>\n",
              "      <td>8.0</td>\n",
              "      <td>-22</td>\n",
              "      <td>-4.0</td>\n",
              "      <td>1034.0</td>\n",
              "      <td>NW</td>\n",
              "      <td>246.72</td>\n",
              "      <td>0</td>\n",
              "      <td>0</td>\n",
              "    </tr>\n",
              "    <tr>\n",
              "      <th>2014-12-31 23:00:00</th>\n",
              "      <td>12.0</td>\n",
              "      <td>-21</td>\n",
              "      <td>-3.0</td>\n",
              "      <td>1034.0</td>\n",
              "      <td>NW</td>\n",
              "      <td>249.85</td>\n",
              "      <td>0</td>\n",
              "      <td>0</td>\n",
              "    </tr>\n",
              "  </tbody>\n",
              "</table>\n",
              "<p>43800 rows × 8 columns</p>\n",
              "</div>"
            ],
            "text/plain": [
              "                     pollution  dew  temp  pressure w_dir  w_speed  snow  rain\n",
              "year_month_day_hour                                                           \n",
              "2010-01-02 00:00:00      129.0  -16  -4.0    1020.0    SE     1.79     0     0\n",
              "2010-01-02 01:00:00      148.0  -15  -4.0    1020.0    SE     2.68     0     0\n",
              "2010-01-02 02:00:00      159.0  -11  -5.0    1021.0    SE     3.57     0     0\n",
              "2010-01-02 03:00:00      181.0   -7  -5.0    1022.0    SE     5.36     1     0\n",
              "2010-01-02 04:00:00      138.0   -7  -5.0    1022.0    SE     6.25     2     0\n",
              "...                        ...  ...   ...       ...   ...      ...   ...   ...\n",
              "2014-12-31 19:00:00        8.0  -23  -2.0    1034.0    NW   231.97     0     0\n",
              "2014-12-31 20:00:00       10.0  -22  -3.0    1034.0    NW   237.78     0     0\n",
              "2014-12-31 21:00:00       10.0  -22  -3.0    1034.0    NW   242.70     0     0\n",
              "2014-12-31 22:00:00        8.0  -22  -4.0    1034.0    NW   246.72     0     0\n",
              "2014-12-31 23:00:00       12.0  -21  -3.0    1034.0    NW   249.85     0     0\n",
              "\n",
              "[43800 rows x 8 columns]"
            ]
          },
          "metadata": {
            "tags": []
          },
          "execution_count": 7
        }
      ]
    },
    {
      "cell_type": "code",
      "metadata": {
        "id": "QGNtHSYCppXH",
        "colab_type": "code",
        "colab": {
          "base_uri": "https://localhost:8080/",
          "height": 258
        },
        "outputId": "e257b28c-6117-46d7-a333-76b380fa0d23"
      },
      "source": [
        "#Analysing relationship between different features\n",
        "# cor_cols = ['pollution', 'wnd_spd', 'rain', 'snow', 'temp']\n",
        "cor_cols = dataset_columns\n",
        "plt.matshow(df.corr())\n",
        "plt.xticks(range(len(cor_cols)), cor_cols)\n",
        "plt.yticks(range(len(cor_cols)), cor_cols)\n",
        "plt.colorbar()\n",
        "plt.show()"
      ],
      "execution_count": null,
      "outputs": [
        {
          "output_type": "display_data",
          "data": {
            "image/png": "[encoded data removed]",
            "text/plain": [
              "<Figure size 288x288 with 2 Axes>"
            ]
          },
          "metadata": {
            "tags": [],
            "needs_background": "light"
          }
        }
      ]
    },
    {
      "cell_type": "code",
      "metadata": {
        "id": "Zk5k12EiqKfP",
        "colab_type": "code",
        "colab": {
          "base_uri": "https://localhost:8080/",
          "height": 34
        },
        "outputId": "92241b0c-fd17-4820-dbe6-ec0994372400"
      },
      "source": [
        "from sklearn.preprocessing import LabelEncoder\n",
        "\n",
        "# Encode non categorical values\n",
        "values = df.values\n",
        "encoder = LabelEncoder()\n",
        "values[:,4] = encoder.fit_transform(values[:,4])\n",
        "values = values.astype('float32')\n",
        "values[:,4]"
      ],
      "execution_count": null,
      "outputs": [
        {
          "output_type": "execute_result",
          "data": {
            "text/plain": [
              "array([2., 2., 2., ..., 1., 1., 1.], dtype=float32)"
            ]
          },
          "metadata": {
            "tags": []
          },
          "execution_count": 9
        }
      ]
    },
    {
      "cell_type": "code",
      "metadata": {
        "id": "mtVERgwftcNL",
        "colab_type": "code",
        "colab": {}
      },
      "source": [
        "#Normalising data\n",
        "from sklearn.preprocessing import MinMaxScaler\n",
        "\n",
        "scaler = MinMaxScaler(feature_range=(0, 1))\n",
        "scaled_dataset = scaler.fit_transform(values)"
      ],
      "execution_count": null,
      "outputs": []
    },
    {
      "cell_type": "code",
      "metadata": {
        "id": "fo5o7LHvtmam",
        "colab_type": "code",
        "colab": {}
      },
      "source": [
        "#Creating a window for previous data\n",
        "def to_supervised(train):\n",
        "  window_size = 4\n",
        "  X = []\n",
        "  Y = []\n",
        "  for i in range(window_size, len(train)):\n",
        "    X.append(train[i-window_size:i,:])\n",
        "    Y.append(train[i,0:1])\n",
        "    \n",
        "  return X,Y"
      ],
      "execution_count": null,
      "outputs": []
    },
    {
      "cell_type": "code",
      "metadata": {
        "id": "9Japs75UuF-D",
        "colab_type": "code",
        "colab": {
          "base_uri": "https://localhost:8080/",
          "height": 51
        },
        "outputId": "232fa0f4-c3e0-4981-a0ad-1cd21e580504"
      },
      "source": [
        "X, Y = to_supervised(scaled_dataset)\n",
        "X = np.array(X)\n",
        "Y = np.array(Y)\n",
        "print('Y' ,Y.shape)\n",
        "print('X' ,X.shape)\n"
      ],
      "execution_count": null,
      "outputs": [
        {
          "output_type": "stream",
          "text": [
            "Y (43796, 1)\n",
            "X (43796, 4, 8)\n"
          ],
          "name": "stdout"
        }
      ]
    },
    {
      "cell_type": "code",
      "metadata": {
        "id": "A--d92h9uQV_",
        "colab_type": "code",
        "colab": {
          "base_uri": "https://localhost:8080/",
          "height": 85
        },
        "outputId": "06dc1c61-2e25-470b-aa5d-40d454ab7b84"
      },
      "source": [
        "#Splitting the dataset\n",
        "n_train = 24*365\n",
        "X_train, X_test = X[n_train:,] , X[:n_train,]\n",
        "print('X_train' ,X_train.shape)\n",
        "print('X_test' ,X_test.shape)\n",
        "\n",
        "Y_train, Y_test = Y[n_train:,] , Y[:n_train,]\n",
        "print('Y_train' ,Y_train.shape)\n",
        "print('Y_test' ,Y_test.shape)"
      ],
      "execution_count": null,
      "outputs": [
        {
          "output_type": "stream",
          "text": [
            "X_train (35036, 4, 8)\n",
            "X_test (8760, 4, 8)\n",
            "Y_train (35036, 1)\n",
            "Y_test (8760, 1)\n"
          ],
          "name": "stdout"
        }
      ]
    },
    {
      "cell_type": "code",
      "metadata": {
        "id": "MnzdpfwM7OUa",
        "colab_type": "code",
        "colab": {
          "base_uri": "https://localhost:8080/",
          "height": 34
        },
        "outputId": "0a99ae98-78c9-4c79-f5df-e9fbbda12e73"
      },
      "source": [
        "#Importing LSTM model\n",
        "from keras.models import Sequential\n",
        "from keras.layers import Dense, Dropout,LSTM\n",
        "model = Sequential()\n",
        "\n",
        "model.add(LSTM(units = 50, return_sequences = True, input_shape=(X_train.shape[1], X_train.shape[2])))\n",
        "model.add(Dropout(0.2))\n",
        "\n",
        "model.add(LSTM(units = 50, return_sequences = True))\n",
        "model.add(Dropout(0.2))\n",
        "\n",
        "model.add(LSTM(units = 50))\n",
        "model.add(Dropout(0.2))\n",
        "\n",
        "model.add(Dense(units = 1))\n",
        "\n",
        "model.compile(optimizer = 'adam', loss = 'mean_squared_error')         "
      ],
      "execution_count": null,
      "outputs": [
        {
          "output_type": "stream",
          "text": [
            "Using TensorFlow backend.\n"
          ],
          "name": "stderr"
        }
      ]
    },
    {
      "cell_type": "code",
      "metadata": {
        "id": "fI1ihWPs-_2w",
        "colab_type": "code",
        "colab": {
          "base_uri": "https://localhost:8080/",
          "height": 714
        },
        "outputId": "dd7af362-3c73-469a-a6d4-b326af713e4f"
      },
      "source": [
        "#Train the model\n",
        "model.fit(X_train, Y_train, epochs = 20, batch_size = 32)"
      ],
      "execution_count": null,
      "outputs": [
        {
          "output_type": "stream",
          "text": [
            "Epoch 1/20\n",
            "35036/35036 [==============================] - 30s 871us/step - loss: 0.0021\n",
            "Epoch 2/20\n",
            "35036/35036 [==============================] - 29s 815us/step - loss: 0.0011\n",
            "Epoch 3/20\n",
            "35036/35036 [==============================] - 28s 788us/step - loss: 9.0931e-04\n",
            "Epoch 4/20\n",
            "35036/35036 [==============================] - 27s 778us/step - loss: 8.4520e-04\n",
            "Epoch 5/20\n",
            "35036/35036 [==============================] - 27s 783us/step - loss: 8.4552e-04\n",
            "Epoch 6/20\n",
            "35036/35036 [==============================] - 28s 788us/step - loss: 8.4213e-04\n",
            "Epoch 7/20\n",
            "35036/35036 [==============================] - 28s 795us/step - loss: 8.2123e-04\n",
            "Epoch 8/20\n",
            "35036/35036 [==============================] - 27s 776us/step - loss: 8.2782e-04\n",
            "Epoch 9/20\n",
            "35036/35036 [==============================] - 27s 773us/step - loss: 8.1744e-04\n",
            "Epoch 10/20\n",
            "35036/35036 [==============================] - 27s 769us/step - loss: 7.9839e-04\n",
            "Epoch 11/20\n",
            "35036/35036 [==============================] - 27s 761us/step - loss: 8.0556e-04\n",
            "Epoch 12/20\n",
            "35036/35036 [==============================] - 27s 769us/step - loss: 8.0480e-04\n",
            "Epoch 13/20\n",
            "35036/35036 [==============================] - 27s 770us/step - loss: 8.0340e-04\n",
            "Epoch 14/20\n",
            "35036/35036 [==============================] - 27s 769us/step - loss: 8.0428e-04\n",
            "Epoch 15/20\n",
            "35036/35036 [==============================] - 27s 763us/step - loss: 7.7593e-04\n",
            "Epoch 16/20\n",
            "35036/35036 [==============================] - 27s 774us/step - loss: 7.6892e-04\n",
            "Epoch 17/20\n",
            "35036/35036 [==============================] - 27s 778us/step - loss: 7.8611e-04\n",
            "Epoch 18/20\n",
            "35036/35036 [==============================] - 28s 785us/step - loss: 7.8265e-04\n",
            "Epoch 19/20\n",
            "35036/35036 [==============================] - 27s 775us/step - loss: 7.6438e-04\n",
            "Epoch 20/20\n",
            "35036/35036 [==============================] - 27s 780us/step - loss: 7.7393e-04\n"
          ],
          "name": "stdout"
        },
        {
          "output_type": "execute_result",
          "data": {
            "text/plain": [
              "<keras.callbacks.callbacks.History at 0x7fd5b6197f98>"
            ]
          },
          "metadata": {
            "tags": []
          },
          "execution_count": 16
        }
      ]
    },
    {
      "cell_type": "code",
      "metadata": {
        "id": "E0ORsAIKAwB2",
        "colab_type": "code",
        "colab": {}
      },
      "source": [
        "#Taking predictions\n",
        "from keras.models import load_model\n",
        "model.save('AirPollutionMultivariate.h5')"
      ],
      "execution_count": null,
      "outputs": []
    },
    {
      "cell_type": "code",
      "metadata": {
        "id": "C6fEpNBnC7kz",
        "colab_type": "code",
        "colab": {
          "base_uri": "https://localhost:8080/",
          "height": 34
        },
        "outputId": "b47dfbee-31f0-4e8f-d756-10af77354fc5"
      },
      "source": [
        "Y_pred = model.predict(X_test)\n",
        "\n",
        "from sklearn.metrics import mean_squared_error\n",
        "mse = mean_squared_error(Y_test, Y_pred)\n",
        "\n",
        "rmse = np.sqrt(mse)\n",
        "rmse"
      ],
      "execution_count": null,
      "outputs": [
        {
          "output_type": "execute_result",
          "data": {
            "text/plain": [
              "0.028314134"
            ]
          },
          "metadata": {
            "tags": []
          },
          "execution_count": 18
        }
      ]
    },
    {
      "cell_type": "code",
      "metadata": {
        "id": "mA0ofmp1DPSN",
        "colab_type": "code",
        "colab": {
          "base_uri": "https://localhost:8080/",
          "height": 68
        },
        "outputId": "7407a957-df78-465f-d3be-83d508eb1956"
      },
      "source": [
        "#Y_predicted = scaler.inverse_transform(Y_pred)\n",
        "print('y_predicted',Y_pred.shape)\n",
        "#print('X_train' ,X_train.shape)\n",
        "print('X_test' ,X_test.shape)\n",
        "print('scaled Values shape', scaled_dataset.shape)"
      ],
      "execution_count": null,
      "outputs": [
        {
          "output_type": "stream",
          "text": [
            "y_predicted (8760, 1)\n",
            "X_test (8760, 4, 8)\n",
            "scaled Values shape (43800, 8)\n"
          ],
          "name": "stdout"
        }
      ]
    },
    {
      "cell_type": "code",
      "metadata": {
        "id": "-4AniFeyDfD7",
        "colab_type": "code",
        "colab": {
          "base_uri": "https://localhost:8080/",
          "height": 85
        },
        "outputId": "cc64e769-44e1-4ffd-9bcd-35b483ed9e68"
      },
      "source": [
        "#Scaling back to the original scale\n",
        "d = scaled_dataset[:8760,:]\n",
        "print('dummy',d.shape)\n",
        "print('Y_pred',Y_pred.shape)\n",
        "Y_predicted = np.concatenate((Y_pred,d[:8760,1:]), axis =1)\n",
        "print('concat y_pred',Y_pred.shape)\n",
        "Y_tested = np.concatenate((Y_test, d[:8760,1:]), axis = 1)\n",
        "print('concat Y_test', Y_test.shape)"
      ],
      "execution_count": null,
      "outputs": [
        {
          "output_type": "stream",
          "text": [
            "dummy (8760, 8)\n",
            "Y_pred (8760, 1)\n",
            "concat y_pred (8760, 1)\n",
            "concat Y_test (8760, 1)\n"
          ],
          "name": "stdout"
        }
      ]
    },
    {
      "cell_type": "code",
      "metadata": {
        "id": "13B5_7XIHPLh",
        "colab_type": "code",
        "colab": {
          "base_uri": "https://localhost:8080/",
          "height": 51
        },
        "outputId": "40b6c243-090c-405c-875f-651eb40b9373"
      },
      "source": [
        "Y_predicted = scaler.inverse_transform(Y_predicted)\n",
        "Y_tested = scaler.inverse_transform(Y_tested)\n",
        "Y_predicted = Y_predicted[:,0:1]\n",
        "Y_tested = Y_tested[:,0:1]\n",
        "print('Y_tested', Y_tested.shape)\n",
        "print('Y_predicted', Y_predicted.shape)"
      ],
      "execution_count": null,
      "outputs": [
        {
          "output_type": "stream",
          "text": [
            "Y_tested (8760, 1)\n",
            "Y_predicted (8760, 1)\n"
          ],
          "name": "stdout"
        }
      ]
    },
    {
      "cell_type": "code",
      "metadata": {
        "id": "-dtpEAfGQsYJ",
        "colab_type": "code",
        "colab": {
          "base_uri": "https://localhost:8080/",
          "height": 34
        },
        "outputId": "ce0bbb49-d5ab-45a6-cd2b-d3fc74bb91f8"
      },
      "source": [
        "from sklearn.metrics import mean_squared_error\n",
        "mse = mean_squared_error(Y_tested, Y_predicted)\n",
        "\n",
        "rmse = np.sqrt(mse)\n",
        "rmse"
      ],
      "execution_count": null,
      "outputs": [
        {
          "output_type": "execute_result",
          "data": {
            "text/plain": [
              "28.14425"
            ]
          },
          "metadata": {
            "tags": []
          },
          "execution_count": 22
        }
      ]
    },
    {
      "cell_type": "code",
      "metadata": {
        "id": "40LyAdCZfZet",
        "colab_type": "code",
        "colab": {
          "base_uri": "https://localhost:8080/",
          "height": 421
        },
        "outputId": "72ed7906-b53b-48e6-bf4a-5673bcbdb2eb"
      },
      "source": [
        "#Plot the graph between actual vs predicted values\n",
        "plt.figure(figsize=(10,6))  \n",
        "plt.plot(Y_predicted[:100,:], color= 'green',label = 'Predicted Pollution level')\n",
        "plt.plot(Y_tested[:100,:] , color = 'red',label = 'Actual Pollution level')\n",
        "plt.title(\"Air Pollution Prediction (Multivariate)\")\n",
        "plt.xlabel(\"Date\")\n",
        "plt.ylabel(\"Pollution level\")\n",
        "plt.legend()\n",
        "plt.show()\n",
        "plt.savefig('graph.png')"
      ],
      "execution_count": null,
      "outputs": [
        {
          "output_type": "display_data",
          "data": {
            "image/png": "[encoded data removed]",
            "text/plain": [
              "<Figure size 720x432 with 1 Axes>"
            ]
          },
          "metadata": {
            "tags": [],
            "needs_background": "light"
          }
        },
        {
          "output_type": "display_data",
          "data": {
            "text/plain": [
              "<Figure size 432x288 with 0 Axes>"
            ]
          },
          "metadata": {
            "tags": []
          }
        }
      ]
    },
    {
      "cell_type": "code",
      "metadata": {
        "id": "ulPQvfoXmyC4",
        "colab_type": "code",
        "colab": {
          "base_uri": "https://localhost:8080/",
          "height": 68
        },
        "outputId": "0de176eb-b4c3-47f5-b55b-bd220dff9176"
      },
      "source": [
        "def mean_absolute_percentage_error(y_true, y_pred): \n",
        "    y_true, y_pred = np.array(y_true), np.array(y_pred)\n",
        "    return np.mean(np.abs((y_true - y_pred) / y_true)) * 100\n",
        "\n",
        "mape = mean_absolute_percentage_error(Y_tested, Y_predicted)\n",
        "print('MAPE', mape)\n"
      ],
      "execution_count": null,
      "outputs": [
        {
          "output_type": "stream",
          "text": [
            "MAPE inf\n"
          ],
          "name": "stdout"
        },
        {
          "output_type": "stream",
          "text": [
            "/usr/local/lib/python3.6/dist-packages/ipykernel_launcher.py:3: RuntimeWarning: divide by zero encountered in true_divide\n",
            "  This is separate from the ipykernel package so we can avoid doing imports until\n"
          ],
          "name": "stderr"
        }
      ]
    },
    {
      "cell_type": "code",
      "metadata": {
        "id": "BCODs7Kom7uK",
        "colab_type": "code",
        "colab": {
          "base_uri": "https://localhost:8080/",
          "height": 51
        },
        "outputId": "267f304e-03d7-43b0-92ea-ebc300c39823"
      },
      "source": [
        "from sklearn.metrics import mean_squared_error\n",
        "mse = mean_squared_error(Y_tested, Y_predicted)\n",
        "#print('Mean squared error', mse)\n",
        "print('RMSE' , np.sqrt(mse))\n",
        "print(\"Mean of Test data \", np.mean(Y_tested))"
      ],
      "execution_count": null,
      "outputs": [
        {
          "output_type": "stream",
          "text": [
            "RMSE 28.14425\n",
            "Mean of Test data  96.041435\n"
          ],
          "name": "stdout"
        }
      ]
    },
    {
      "cell_type": "code",
      "metadata": {
        "id": "r3vdque_zCoo",
        "colab_type": "code",
        "colab": {}
      },
      "source": [
        ""
      ],
      "execution_count": null,
      "outputs": []
    }
  ]
}